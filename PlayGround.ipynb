{
 "cells": [
  {
   "cell_type": "markdown",
   "metadata": {},
   "source": [
    "# とりあえず遊んでみよう\n",
    "\n",
    "* 最初は人口数 $N$ の定義\n",
    "* 病気持ち（有病率）のレートを 1 % 程度にしてみようか\n"
   ]
  },
  {
   "cell_type": "code",
   "execution_count": 4,
   "metadata": {},
   "outputs": [
    {
     "name": "stdout",
     "output_type": "stream",
     "text": [
      "10000.0\n"
     ]
    }
   ],
   "source": [
    "N = 1000000\n",
    "p = 0.01\n",
    "\n",
    "m = N * p\n",
    "\n",
    "print(m)"
   ]
  },
  {
   "cell_type": "markdown",
   "metadata": {},
   "source": [
    "とりあえず，遊ぶためのデータを作る．"
   ]
  },
  {
   "cell_type": "code",
   "execution_count": 5,
   "metadata": {},
   "outputs": [],
   "source": [
    "import numpy as np\n",
    "import matplotlib.pylab as plt\n",
    "import seaborn as sns; sns.set()"
   ]
  },
  {
   "cell_type": "code",
   "execution_count": 9,
   "metadata": {},
   "outputs": [],
   "source": [
    "psample = np.random.rand(N)\n",
    "X = psample < p\n",
    "\n",
    "# X は True/False で，病態の真偽を表す．"
   ]
  },
  {
   "cell_type": "markdown",
   "metadata": {},
   "source": [
    "検査の設定．\n",
    "\n",
    "|   \\        |  陽性(Pos)  |  陰性(Neg)  |\n",
    "| --------   | ---------- | ----------- |\n",
    "|  真(True)  |  TD         |  TD        |\n",
    "|  偽(False) |  TD         |  TD        |\n",
    "\n",
    "\n",
    "\n",
    "|         | (Positive) | (Negative) |\n",
    "| ------- | ---------- | ---------- |\n",
    "| (True)  |            |            |\n",
    "| (False) |            |            |\n",
    "\n"
   ]
  }
 ],
 "metadata": {
  "kernelspec": {
   "display_name": "Python 3",
   "language": "python",
   "name": "python3"
  },
  "language_info": {
   "codemirror_mode": {
    "name": "ipython",
    "version": 3
   },
   "file_extension": ".py",
   "mimetype": "text/x-python",
   "name": "python",
   "nbconvert_exporter": "python",
   "pygments_lexer": "ipython3",
   "version": "3.7.2"
  }
 },
 "nbformat": 4,
 "nbformat_minor": 2
}
